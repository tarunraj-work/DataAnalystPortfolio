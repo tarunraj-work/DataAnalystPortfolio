{
 "cells": [
  {
   "cell_type": "code",
   "execution_count": 1,
   "id": "34df29aa",
   "metadata": {
    "_cell_guid": "5c3506a1-ad47-40c3-b053-7776d05822ca",
    "_kg_hide-input": false,
    "_uuid": "36d2cd3f-78da-400e-a53a-9cd2c6024e84",
    "collapsed": false,
    "execution": {
     "iopub.execute_input": "2023-06-17T00:10:49.266358Z",
     "iopub.status.busy": "2023-06-17T00:10:49.265964Z",
     "iopub.status.idle": "2023-06-17T00:10:50.979367Z",
     "shell.execute_reply": "2023-06-17T00:10:50.977944Z"
    },
    "jupyter": {
     "outputs_hidden": false
    },
    "papermill": {
     "duration": 1.733439,
     "end_time": "2023-06-17T00:10:50.981967",
     "exception": false,
     "start_time": "2023-06-17T00:10:49.248528",
     "status": "completed"
    },
    "tags": []
   },
   "outputs": [
    {
     "name": "stdout",
     "output_type": "stream",
     "text": [
      "/kaggle/input/foodpoisoningclaims/food_claims_2212.csv\n"
     ]
    }
   ],
   "source": [
    "# This Python 3 environment comes with many helpful analytics libraries installed\n",
    "# It is defined by the kaggle/python Docker image: https://github.com/kaggle/docker-python\n",
    "# For example, here's several helpful packages to load\n",
    "\n",
    "import numpy as np # linear algebra\n",
    "import pandas as pd # data processing, CSV file I/O (e.g. pd.read_csv)\n",
    "import seaborn as sns\n",
    "\n",
    "# Input data files are available in the read-only \"../input/\" directory\n",
    "# For example, running this (by clicking run or pressing Shift+Enter) will list all files under the input directory\n",
    "\n",
    "import os\n",
    "for dirname, _, filenames in os.walk('/kaggle/input'):\n",
    "    for filename in filenames:\n",
    "        print(os.path.join(dirname, filename))\n",
    "\n",
    "# You can write up to 20GB to the current directory (/kaggle/working/) that gets preserved as output when you create a version using \"Save & Run All\" \n",
    "# You can also write temporary files to /kaggle/temp/, but they won't be saved outside of the current session"
   ]
  },
  {
   "cell_type": "code",
   "execution_count": 2,
   "id": "e800b69d",
   "metadata": {
    "_cell_guid": "68a709a4-e5e9-4239-98c2-c4dfa5ab3ad1",
    "_uuid": "46f079fb-84e0-4573-94fd-d5fd038a883d",
    "collapsed": false,
    "execution": {
     "iopub.execute_input": "2023-06-17T00:10:51.012234Z",
     "iopub.status.busy": "2023-06-17T00:10:51.011723Z",
     "iopub.status.idle": "2023-06-17T00:10:51.048494Z",
     "shell.execute_reply": "2023-06-17T00:10:51.047542Z"
    },
    "jupyter": {
     "outputs_hidden": false
    },
    "papermill": {
     "duration": 0.055088,
     "end_time": "2023-06-17T00:10:51.051097",
     "exception": false,
     "start_time": "2023-06-17T00:10:50.996009",
     "status": "completed"
    },
    "tags": []
   },
   "outputs": [],
   "source": [
    "df = pd.read_csv('/kaggle/input/foodpoisoningclaims/food_claims_2212.csv')"
   ]
  },
  {
   "cell_type": "markdown",
   "id": "ec7aabc1",
   "metadata": {
    "_cell_guid": "efa68740-0d27-47c9-8977-230860ad07f3",
    "_uuid": "513b0647-5699-4338-b9f6-6c5b68cda193",
    "papermill": {
     "duration": 0.013634,
     "end_time": "2023-06-17T00:10:51.078254",
     "exception": false,
     "start_time": "2023-06-17T00:10:51.064620",
     "status": "completed"
    },
    "tags": []
   },
   "source": [
    "Here is a table provided that describes what we expect from our columns and the data stored within:\n",
    "\n",
    "| Field Name           | Description                                                                                                                                                  |\n",
    "|----------------------|--------------------------------------------------------------------------------------------------------------------------------------------------------------|\n",
    "| claim_id             | Nominal. The unique identifier of the claim. Missing values are not possible due to the database structure.                                                  |\n",
    "| time_to_close        | Discrete. The number of days to close the claim. Any positive value. Replace missing values with the overall median time to close.                           |\n",
    "| claim_amount         | Continuous. The initial claim requested in the currency of Brazil, rounded to 2 decimal places. Replace missing values with the overall median claim amount. |\n",
    "| amount_paid          | Continuous. Final amount paid. In the currency of Brazil. Rounded to 2 decimal places. Replace missing values with the overall median amount paid.           |\n",
    "| location             | Nominal. Location of the claim, one of “RECIFE”, “SAO LUIS”, “FORTALEZA”, or “NATAL”. Remove missing values.                                                 |\n",
    "| individuals_on_claim | Discrete. Number of individuals on this claim. Minimum 1 person. Replace missing value with 0.                                                               |\n",
    "| linked_cases         | Nominal. Whether this claim is linked to other cases. Either TRUE or FALSE. Replace missing values with FALSE.                                               |\n",
    "| cause                | Nominal. Cause of the food poisoning. One of “vegetable”, “meat” or “unknown”. Replace missing values with ‘unknown’.                                        |"
   ]
  },
  {
   "cell_type": "markdown",
   "id": "cee2c40d",
   "metadata": {
    "_cell_guid": "28f46fcc-c42d-4af4-9fbc-81596b11273d",
    "_uuid": "9d2c369a-d5b0-446a-9d45-993422c8e11b",
    "papermill": {
     "duration": 0.013041,
     "end_time": "2023-06-17T00:10:51.104667",
     "exception": false,
     "start_time": "2023-06-17T00:10:51.091626",
     "status": "completed"
    },
    "tags": []
   },
   "source": [
    "# 1. For every column in the data:\n",
    "### a. State whether the values match the description given in the table above.\n",
    "### b. State the number of missing values in the column.\n",
    "### c. Describe what you did to make values match the description if they did not match."
   ]
  },
  {
   "cell_type": "markdown",
   "id": "d8cdbb95",
   "metadata": {
    "_cell_guid": "fd88be65-b5f1-420e-bc64-ab3f27e45136",
    "_uuid": "8eb8c947-ffe9-46f8-a9ca-92165a2525f3",
    "papermill": {
     "duration": 0.012975,
     "end_time": "2023-06-17T00:10:51.131080",
     "exception": false,
     "start_time": "2023-06-17T00:10:51.118105",
     "status": "completed"
    },
    "tags": []
   },
   "source": [
    "Let's use a table to track issues with our columns.\n",
    "\n",
    "| Field Name           | Issue |\n",
    "|----------------------|-------|\n",
    "| claim_id             |       |\n",
    "| time_to_close        |       |\n",
    "| claim_amount         |       |\n",
    "| amount_paid          |       |\n",
    "| location             |       |\n",
    "| individuals_on_claim |       |\n",
    "| linked_cases         |       |\n",
    "| cause                |       |\n",
    "\n",
    "First, we expect that **claim_id** will be:\n",
    "* Nominal\n",
    "* Unique"
   ]
  },
  {
   "cell_type": "code",
   "execution_count": 3,
   "id": "6d9af482",
   "metadata": {
    "_cell_guid": "1c6806e4-7e4e-499a-9100-fda2efd9fc35",
    "_uuid": "68d14c09-451c-4b54-b2f8-fe95b7b640b4",
    "collapsed": false,
    "execution": {
     "iopub.execute_input": "2023-06-17T00:10:51.160732Z",
     "iopub.status.busy": "2023-06-17T00:10:51.159712Z",
     "iopub.status.idle": "2023-06-17T00:10:51.175734Z",
     "shell.execute_reply": "2023-06-17T00:10:51.174406Z"
    },
    "jupyter": {
     "outputs_hidden": false
    },
    "papermill": {
     "duration": 0.033859,
     "end_time": "2023-06-17T00:10:51.178163",
     "exception": false,
     "start_time": "2023-06-17T00:10:51.144304",
     "status": "completed"
    },
    "tags": []
   },
   "outputs": [
    {
     "name": "stdout",
     "output_type": "stream",
     "text": [
      "Are there any null values?  False\n",
      "Is there any duplicated data?  False\n"
     ]
    }
   ],
   "source": [
    "print(\"Are there any null values? \", df['claim_id'].isna().any())\n",
    "print(\"Is there any duplicated data? \", df['claim_id'].duplicated().any())"
   ]
  },
  {
   "cell_type": "markdown",
   "id": "36d91bcd",
   "metadata": {
    "_cell_guid": "b704ad95-a168-4c18-8712-25037d76a5a7",
    "_uuid": "0aaad6e6-d8dd-4371-9dff-02680e1431b8",
    "papermill": {
     "duration": 0.013208,
     "end_time": "2023-06-17T00:10:51.204841",
     "exception": false,
     "start_time": "2023-06-17T00:10:51.191633",
     "status": "completed"
    },
    "tags": []
   },
   "source": [
    "| Field Name           | Issue |\n",
    "|----------------------|-------|\n",
    "| claim_id             |NONE   |\n",
    "| time_to_close        |       |\n",
    "| claim_amount         |       |\n",
    "| amount_paid          |       |\n",
    "| location             |       |\n",
    "| individuals_on_claim |       |\n",
    "| linked_cases         |       |\n",
    "| cause                |       |\n",
    "\n",
    "We expect **time_to_close** to be:\n",
    "* Discrete.\n",
    "* Any positive value."
   ]
  },
  {
   "cell_type": "code",
   "execution_count": 4,
   "id": "b7049459",
   "metadata": {
    "_cell_guid": "543ae93d-19cc-4052-9357-0c55df25492f",
    "_uuid": "c048deb1-e156-4552-bd76-f287286dced3",
    "collapsed": false,
    "execution": {
     "iopub.execute_input": "2023-06-17T00:10:51.234105Z",
     "iopub.status.busy": "2023-06-17T00:10:51.233462Z",
     "iopub.status.idle": "2023-06-17T00:10:51.243790Z",
     "shell.execute_reply": "2023-06-17T00:10:51.242206Z"
    },
    "jupyter": {
     "outputs_hidden": false
    },
    "papermill": {
     "duration": 0.02817,
     "end_time": "2023-06-17T00:10:51.246537",
     "exception": false,
     "start_time": "2023-06-17T00:10:51.218367",
     "status": "completed"
    },
    "tags": []
   },
   "outputs": [
    {
     "name": "stdout",
     "output_type": "stream",
     "text": [
      "How many null values?  0\n",
      "What is the lowest value?  76\n",
      "What is the data type?  int64\n"
     ]
    }
   ],
   "source": [
    "column = 'time_to_close'\n",
    "print(\"How many null values? \", df[column].isna().sum())\n",
    "print(\"What is the lowest value? \", df[column].min())\n",
    "print(\"What is the data type? \", df[column].dtype)"
   ]
  },
  {
   "cell_type": "markdown",
   "id": "5c806268",
   "metadata": {
    "_cell_guid": "b17ecaca-c733-495e-9b79-4cd36e6a4ac3",
    "_uuid": "4ee10ae6-cbc7-4e75-841b-44a9c3ada8f5",
    "papermill": {
     "duration": 0.014012,
     "end_time": "2023-06-17T00:10:51.274536",
     "exception": false,
     "start_time": "2023-06-17T00:10:51.260524",
     "status": "completed"
    },
    "tags": []
   },
   "source": [
    "| Field Name           | Issue |\n",
    "|----------------------|-------|\n",
    "| claim_id             |NONE   |\n",
    "| time_to_close        |NONE   |\n",
    "| claim_amount         |       |\n",
    "| amount_paid          |       |\n",
    "| location             |       |\n",
    "| individuals_on_claim |       |\n",
    "| linked_cases         |       |\n",
    "| cause                |       |\n",
    "\n",
    "We expect **claim_amount** to be:\n",
    "* Continuous. \n",
    "* The initial claim requested in the currency of Brazil, rounded to 2 decimal places."
   ]
  },
  {
   "cell_type": "code",
   "execution_count": 5,
   "id": "c62518d2",
   "metadata": {
    "_cell_guid": "40d4d63c-f3b7-4406-92b7-ec4cedc1d30a",
    "_uuid": "183353fb-e323-4b54-ac7b-3ae23bbb0838",
    "collapsed": false,
    "execution": {
     "iopub.execute_input": "2023-06-17T00:10:51.304853Z",
     "iopub.status.busy": "2023-06-17T00:10:51.304137Z",
     "iopub.status.idle": "2023-06-17T00:10:51.313204Z",
     "shell.execute_reply": "2023-06-17T00:10:51.311875Z"
    },
    "jupyter": {
     "outputs_hidden": false
    },
    "papermill": {
     "duration": 0.027599,
     "end_time": "2023-06-17T00:10:51.316395",
     "exception": false,
     "start_time": "2023-06-17T00:10:51.288796",
     "status": "completed"
    },
    "tags": []
   },
   "outputs": [
    {
     "name": "stdout",
     "output_type": "stream",
     "text": [
      "How many null values?  0\n",
      "What is the lowest value?  R$ 10003.79\n",
      "What is the data type?  object\n"
     ]
    }
   ],
   "source": [
    "column = 'claim_amount'\n",
    "print(\"How many null values? \", df[column].isna().sum())\n",
    "print(\"What is the lowest value? \", df[column].min())\n",
    "print(\"What is the data type? \", df[column].dtype)"
   ]
  },
  {
   "cell_type": "markdown",
   "id": "566c7eb4",
   "metadata": {
    "_cell_guid": "efda3e5a-6fef-41f6-9e46-31457a2d9fd0",
    "_uuid": "7bf4fbe9-f5ac-4378-9979-23cf81431726",
    "papermill": {
     "duration": 0.013466,
     "end_time": "2023-06-17T00:10:51.343943",
     "exception": false,
     "start_time": "2023-06-17T00:10:51.330477",
     "status": "completed"
    },
    "tags": []
   },
   "source": [
    "We see an issue, we want claim_amount to be saved as a numeric field instead of a string. \n",
    "\n",
    "Ideally, I would cut off the text on the left, multiply the number by 100, and save the field as an *integer* representing the value in Brazilian **Centavos** instead of **Real** to avoid any rounding issues.\n",
    "\n",
    "However, our table requires us to save these as a decimal rounded to two places. To do so, we'll slice out the text on the left and use the *float* dtype."
   ]
  },
  {
   "cell_type": "code",
   "execution_count": 6,
   "id": "0812d575",
   "metadata": {
    "_cell_guid": "4547d3d9-c66b-4d01-ba49-dbea47fd521e",
    "_uuid": "42789dee-8252-4317-96e6-9d1c0ea8a3c9",
    "collapsed": false,
    "execution": {
     "iopub.execute_input": "2023-06-17T00:10:51.374973Z",
     "iopub.status.busy": "2023-06-17T00:10:51.374578Z",
     "iopub.status.idle": "2023-06-17T00:10:51.384960Z",
     "shell.execute_reply": "2023-06-17T00:10:51.383242Z"
    },
    "jupyter": {
     "outputs_hidden": false
    },
    "papermill": {
     "duration": 0.029397,
     "end_time": "2023-06-17T00:10:51.388028",
     "exception": false,
     "start_time": "2023-06-17T00:10:51.358631",
     "status": "completed"
    },
    "tags": []
   },
   "outputs": [],
   "source": [
    "df['claim_amount'] = df['claim_amount'].str.slice(3).astype(float).round(2)"
   ]
  },
  {
   "cell_type": "markdown",
   "id": "15184350",
   "metadata": {
    "_cell_guid": "cebed129-9cc7-4240-8ecf-090e67e5fe9c",
    "_uuid": "db20e9ea-b30b-422c-871e-30335cf52a92",
    "papermill": {
     "duration": 0.014056,
     "end_time": "2023-06-17T00:10:51.416358",
     "exception": false,
     "start_time": "2023-06-17T00:10:51.402302",
     "status": "completed"
    },
    "tags": []
   },
   "source": [
    "Now we've got **claim_amount** the way we expected it.\n",
    "\n",
    "| Field Name           | Issue |\n",
    "|----------------------|-------|\n",
    "| claim_id             |NONE   |\n",
    "| time_to_close        |NONE   |\n",
    "| claim_amount         |Sliced, Converted Data Type to Float, & Rounded|\n",
    "| amount_paid          |       |\n",
    "| location             |       |\n",
    "| individuals_on_claim |       |\n",
    "| linked_cases         |       |\n",
    "| cause                |       |\n",
    "\n",
    "We expect **amount_paid** to be:\n",
    "* Continuous.\n",
    "* Final amount paid.\n",
    "* In the currency of Brazil.\n",
    "* Rounded to 2 decimal places."
   ]
  },
  {
   "cell_type": "code",
   "execution_count": 7,
   "id": "c3cebbb8",
   "metadata": {
    "_cell_guid": "69246cff-27f0-4093-afd1-92c915613c61",
    "_uuid": "3e30448d-f2b5-4e99-97fd-40de9474dee6",
    "collapsed": false,
    "execution": {
     "iopub.execute_input": "2023-06-17T00:10:51.445698Z",
     "iopub.status.busy": "2023-06-17T00:10:51.445294Z",
     "iopub.status.idle": "2023-06-17T00:10:51.453129Z",
     "shell.execute_reply": "2023-06-17T00:10:51.451769Z"
    },
    "jupyter": {
     "outputs_hidden": false
    },
    "papermill": {
     "duration": 0.02594,
     "end_time": "2023-06-17T00:10:51.455953",
     "exception": false,
     "start_time": "2023-06-17T00:10:51.430013",
     "status": "completed"
    },
    "tags": []
   },
   "outputs": [
    {
     "name": "stdout",
     "output_type": "stream",
     "text": [
      "How many null values?  36\n",
      "What is the lowest value?  1516.72\n",
      "What is the data type?  float64\n"
     ]
    }
   ],
   "source": [
    "column = 'amount_paid'\n",
    "print(\"How many null values? \", df[column].isna().sum())\n",
    "print(\"What is the lowest value? \", df[column].min())\n",
    "print(\"What is the data type? \", df[column].dtype)"
   ]
  },
  {
   "cell_type": "markdown",
   "id": "614f397f",
   "metadata": {
    "_cell_guid": "83f1a09b-1c66-4300-bf6d-7782ea8d9c72",
    "_uuid": "fedd8542-919b-43a7-a911-4e6cf71ea5b7",
    "papermill": {
     "duration": 0.013341,
     "end_time": "2023-06-17T00:10:51.482949",
     "exception": false,
     "start_time": "2023-06-17T00:10:51.469608",
     "status": "completed"
    },
    "tags": []
   },
   "source": [
    "It looks like we have null values. Let's replace these null values with the median amount_paid."
   ]
  },
  {
   "cell_type": "code",
   "execution_count": 8,
   "id": "70bc1e02",
   "metadata": {
    "_cell_guid": "52c5fb49-a79c-4462-88f9-c85ea6651b85",
    "_uuid": "a67e839b-ba87-49f5-b99d-d0823728a0af",
    "collapsed": false,
    "execution": {
     "iopub.execute_input": "2023-06-17T00:10:51.512465Z",
     "iopub.status.busy": "2023-06-17T00:10:51.512080Z",
     "iopub.status.idle": "2023-06-17T00:10:51.523831Z",
     "shell.execute_reply": "2023-06-17T00:10:51.522484Z"
    },
    "jupyter": {
     "outputs_hidden": false
    },
    "papermill": {
     "duration": 0.029867,
     "end_time": "2023-06-17T00:10:51.526315",
     "exception": false,
     "start_time": "2023-06-17T00:10:51.496448",
     "status": "completed"
    },
    "tags": []
   },
   "outputs": [
    {
     "name": "stdout",
     "output_type": "stream",
     "text": [
      "Median amount_paid is:  20105.699999999997\n",
      "How many null values?  0\n"
     ]
    }
   ],
   "source": [
    "median_amount_paid = df['amount_paid'].median()\n",
    "print('Median amount_paid is: ', median_amount_paid)\n",
    "df.fillna({\"amount_paid\": median_amount_paid},inplace=True)\n",
    "print(\"How many null values? \", df[column].isna().sum())"
   ]
  },
  {
   "cell_type": "markdown",
   "id": "5cb422e8",
   "metadata": {
    "_cell_guid": "bf4be24e-0470-4933-a8db-fb5b6b78f985",
    "_uuid": "04e749d6-9133-4956-adda-d8f75da07f0d",
    "papermill": {
     "duration": 0.013519,
     "end_time": "2023-06-17T00:10:51.553528",
     "exception": false,
     "start_time": "2023-06-17T00:10:51.540009",
     "status": "completed"
    },
    "tags": []
   },
   "source": [
    "| Field Name           | Issue |\n",
    "|----------------------|-------|\n",
    "| claim_id             |NONE   |\n",
    "| time_to_close        |NONE   |\n",
    "| claim_amount         |Sliced, Converted Data Type to Float, & Rounded|\n",
    "| amount_paid          |36 Nulls|\n",
    "| location             |       |\n",
    "| individuals_on_claim |       |\n",
    "| linked_cases         |       |\n",
    "| cause                |       |\n",
    "\n",
    "We expect **location** to be:\n",
    "* Nominal. \n",
    "* Location of the claim\n",
    "* Either “RECIFE”, “SAO LUIS”, “FORTALEZA”, or “NATAL”."
   ]
  },
  {
   "cell_type": "code",
   "execution_count": 9,
   "id": "7b64e288",
   "metadata": {
    "_cell_guid": "e8233c1c-4981-4831-8f55-94bc204d24c0",
    "_uuid": "8b580fe3-5092-46b7-b4f2-3bd72cf69e4e",
    "collapsed": false,
    "execution": {
     "iopub.execute_input": "2023-06-17T00:10:51.583051Z",
     "iopub.status.busy": "2023-06-17T00:10:51.582667Z",
     "iopub.status.idle": "2023-06-17T00:10:51.591935Z",
     "shell.execute_reply": "2023-06-17T00:10:51.590806Z"
    },
    "jupyter": {
     "outputs_hidden": false
    },
    "papermill": {
     "duration": 0.027623,
     "end_time": "2023-06-17T00:10:51.594864",
     "exception": false,
     "start_time": "2023-06-17T00:10:51.567241",
     "status": "completed"
    },
    "tags": []
   },
   "outputs": [
    {
     "name": "stdout",
     "output_type": "stream",
     "text": [
      "How many null values?  0\n",
      "What is the data type?  object\n",
      "What are the unique values?  ['RECIFE' 'FORTALEZA' 'SAO LUIS' 'NATAL']\n"
     ]
    }
   ],
   "source": [
    "column = 'location'\n",
    "print(\"How many null values? \", df[column].isna().sum())\n",
    "print(\"What is the data type? \", df[column].dtype)\n",
    "print('What are the unique values? ',df[column].unique())"
   ]
  },
  {
   "cell_type": "markdown",
   "id": "2df7e15e",
   "metadata": {
    "_cell_guid": "a06167dc-3659-40da-8c08-02b61995899c",
    "_uuid": "a2b367b7-0426-489e-9daf-836dbdee169b",
    "papermill": {
     "duration": 0.013687,
     "end_time": "2023-06-17T00:10:51.622587",
     "exception": false,
     "start_time": "2023-06-17T00:10:51.608900",
     "status": "completed"
    },
    "tags": []
   },
   "source": [
    "| Field Name           | Issue |\n",
    "|----------------------|-------|\n",
    "| claim_id             |NONE   |\n",
    "| time_to_close        |NONE   |\n",
    "| claim_amount         |Sliced, Converted Data Type to Float, & Rounded|\n",
    "| amount_paid          |36 Nulls  |\n",
    "| location             |NONE   |\n",
    "| individuals_on_claim |       |\n",
    "| linked_cases         |       |\n",
    "| cause                |       |\n",
    "\n",
    "We expect **individuals_on_claim** to be:\n",
    "* Discrete.\n",
    "* Number of individuals on this claim. \n",
    "* Minimum 1 person."
   ]
  },
  {
   "cell_type": "code",
   "execution_count": 10,
   "id": "cc2df6a4",
   "metadata": {
    "_cell_guid": "4a988980-04f0-4ee7-8ec6-faeee9a6c3f7",
    "_uuid": "4198a5d0-91cc-4d72-997f-9a7e49d1ff7d",
    "collapsed": false,
    "execution": {
     "iopub.execute_input": "2023-06-17T00:10:51.651975Z",
     "iopub.status.busy": "2023-06-17T00:10:51.651548Z",
     "iopub.status.idle": "2023-06-17T00:10:51.660054Z",
     "shell.execute_reply": "2023-06-17T00:10:51.658358Z"
    },
    "jupyter": {
     "outputs_hidden": false
    },
    "papermill": {
     "duration": 0.02629,
     "end_time": "2023-06-17T00:10:51.662628",
     "exception": false,
     "start_time": "2023-06-17T00:10:51.636338",
     "status": "completed"
    },
    "tags": []
   },
   "outputs": [
    {
     "name": "stdout",
     "output_type": "stream",
     "text": [
      "Are there any null values?  False\n",
      "What is the data type?  int64\n",
      "What is the lowest value?  1\n"
     ]
    }
   ],
   "source": [
    "column = 'individuals_on_claim'\n",
    "print(\"Are there any null values? \", df[column].isna().any())\n",
    "print(\"What is the data type? \", df[column].dtype)\n",
    "print(\"What is the lowest value? \", df[column].min())"
   ]
  },
  {
   "cell_type": "markdown",
   "id": "04258a0e",
   "metadata": {
    "_cell_guid": "e1b3fe1c-ece4-4040-8f5c-12c4e2135e07",
    "_uuid": "ebde55ab-3460-451a-aad5-96c844ae705f",
    "papermill": {
     "duration": 0.01373,
     "end_time": "2023-06-17T00:10:51.690340",
     "exception": false,
     "start_time": "2023-06-17T00:10:51.676610",
     "status": "completed"
    },
    "tags": []
   },
   "source": [
    "| Field Name           | Issue |\n",
    "|----------------------|-------|\n",
    "| claim_id             |NONE   |\n",
    "| time_to_close        |NONE   |\n",
    "| claim_amount         |Sliced, Converted Data Type to Float, & Rounded|\n",
    "| amount_paid          |36 Nulls  |\n",
    "| location             |NONE   |\n",
    "| individuals_on_claim |NONE   |\n",
    "| linked_cases         |       |\n",
    "| cause                |       |\n",
    "\n",
    "We expect **linked_cases** to be:\n",
    "* Nominal.\n",
    "* Whether this claim is linked to other cases.\n",
    "* Either TRUE or FALSE."
   ]
  },
  {
   "cell_type": "code",
   "execution_count": 11,
   "id": "3afb5c1b",
   "metadata": {
    "_cell_guid": "9099b7d2-d3c4-4804-9a68-0730bbcf3d88",
    "_uuid": "ff18050b-dd7a-4232-9b16-7859325218eb",
    "collapsed": false,
    "execution": {
     "iopub.execute_input": "2023-06-17T00:10:51.720471Z",
     "iopub.status.busy": "2023-06-17T00:10:51.720094Z",
     "iopub.status.idle": "2023-06-17T00:10:51.727475Z",
     "shell.execute_reply": "2023-06-17T00:10:51.726276Z"
    },
    "jupyter": {
     "outputs_hidden": false
    },
    "papermill": {
     "duration": 0.026188,
     "end_time": "2023-06-17T00:10:51.730391",
     "exception": false,
     "start_time": "2023-06-17T00:10:51.704203",
     "status": "completed"
    },
    "tags": []
   },
   "outputs": [
    {
     "name": "stdout",
     "output_type": "stream",
     "text": [
      "How many null values?  26\n",
      "What is the data type?  object\n"
     ]
    }
   ],
   "source": [
    "column = 'linked_cases'\n",
    "print(\"How many null values? \", df[column].isna().sum())\n",
    "print(\"What is the data type? \", df[column].dtype)"
   ]
  },
  {
   "cell_type": "markdown",
   "id": "ab265e6d",
   "metadata": {
    "_cell_guid": "0d50b753-fa42-4118-9b11-4d23bbc96d60",
    "_uuid": "7c414ee7-a364-4a1d-a763-fda962f49e50",
    "papermill": {
     "duration": 0.013659,
     "end_time": "2023-06-17T00:10:51.758668",
     "exception": false,
     "start_time": "2023-06-17T00:10:51.745009",
     "status": "completed"
    },
    "tags": []
   },
   "source": [
    "I see that there are nulls in **linked_cases**. This is probably why the data type is not listed as *bool* Let's replace null values with False."
   ]
  },
  {
   "cell_type": "code",
   "execution_count": 12,
   "id": "706f7bbb",
   "metadata": {
    "_cell_guid": "080cfb5f-c8e4-4c3e-875d-640bbbd6d5ec",
    "_uuid": "b2da3f90-bf96-4db2-a66d-9db1ba0e2f68",
    "collapsed": false,
    "execution": {
     "iopub.execute_input": "2023-06-17T00:10:51.788369Z",
     "iopub.status.busy": "2023-06-17T00:10:51.787991Z",
     "iopub.status.idle": "2023-06-17T00:10:51.797345Z",
     "shell.execute_reply": "2023-06-17T00:10:51.796168Z"
    },
    "jupyter": {
     "outputs_hidden": false
    },
    "papermill": {
     "duration": 0.027473,
     "end_time": "2023-06-17T00:10:51.800105",
     "exception": false,
     "start_time": "2023-06-17T00:10:51.772632",
     "status": "completed"
    },
    "tags": []
   },
   "outputs": [
    {
     "name": "stdout",
     "output_type": "stream",
     "text": [
      "How many null values?  0\n",
      "What is the data type?  bool\n"
     ]
    }
   ],
   "source": [
    "df.fillna({\"linked_cases\": False},inplace=True)\n",
    "\n",
    "print(\"How many null values? \", df[column].isna().sum())\n",
    "print(\"What is the data type? \", df[column].dtype)"
   ]
  },
  {
   "cell_type": "markdown",
   "id": "f152f52d",
   "metadata": {
    "_cell_guid": "32d7296b-5e87-45b9-a0ce-db03eacf2ac7",
    "_uuid": "6f595a34-f3bc-4fbe-b667-9780345805cb",
    "papermill": {
     "duration": 0.013994,
     "end_time": "2023-06-17T00:10:51.828412",
     "exception": false,
     "start_time": "2023-06-17T00:10:51.814418",
     "status": "completed"
    },
    "tags": []
   },
   "source": [
    "| Field Name           | Issue |\n",
    "|----------------------|-------|\n",
    "| claim_id             |NONE   |\n",
    "| time_to_close        |NONE   |\n",
    "| claim_amount         |Sliced, Converted Data Type to Float, & Rounded|\n",
    "| amount_paid          |36 Nulls  |\n",
    "| location             |NONE   |\n",
    "| individuals_on_claim |NONE   |\n",
    "| linked_cases         |26 Nulls, Saved as Object instead of bool |\n",
    "| cause                |       |\n",
    "\n",
    "We expect **cause** to be:\n",
    "* Nominal. \n",
    "* Cause of the food poisoning. \n",
    "* One of “vegetable”, “meat” or “unknown”."
   ]
  },
  {
   "cell_type": "code",
   "execution_count": 13,
   "id": "a02d7866",
   "metadata": {
    "_cell_guid": "5fb8f406-cf78-47be-86ef-afb309fb6fa9",
    "_uuid": "1a9d543a-24d3-458f-ab80-0a48e8f23fd3",
    "collapsed": false,
    "execution": {
     "iopub.execute_input": "2023-06-17T00:10:51.859470Z",
     "iopub.status.busy": "2023-06-17T00:10:51.859083Z",
     "iopub.status.idle": "2023-06-17T00:10:51.867872Z",
     "shell.execute_reply": "2023-06-17T00:10:51.866460Z"
    },
    "jupyter": {
     "outputs_hidden": false
    },
    "papermill": {
     "duration": 0.028108,
     "end_time": "2023-06-17T00:10:51.870602",
     "exception": false,
     "start_time": "2023-06-17T00:10:51.842494",
     "status": "completed"
    },
    "tags": []
   },
   "outputs": [
    {
     "name": "stdout",
     "output_type": "stream",
     "text": [
      "Are there any null values?  False\n",
      "What is the data type?  object\n",
      "What are the unique values?  ['unknown' 'meat' 'vegetable' ' Meat' 'VEGETABLES']\n"
     ]
    }
   ],
   "source": [
    "column = 'cause'\n",
    "print(\"Are there any null values? \", df[column].isna().any())\n",
    "print(\"What is the data type? \", df[column].dtype)\n",
    "print('What are the unique values? ',df[column].unique())"
   ]
  },
  {
   "cell_type": "markdown",
   "id": "4734f47b",
   "metadata": {
    "_cell_guid": "0a5386a9-1499-4ebf-9d31-f40812e538d0",
    "_uuid": "51791793-56e0-45ef-ac1f-8214dbbb6a24",
    "papermill": {
     "duration": 0.014994,
     "end_time": "2023-06-17T00:10:51.901628",
     "exception": false,
     "start_time": "2023-06-17T00:10:51.886634",
     "status": "completed"
    },
    "tags": []
   },
   "source": [
    "I see an issue - there are different capitalizations for these values. We need to replace\n",
    "* ' Meat' with 'meat'\n",
    "* 'VEGETABLES' with 'vegetable'."
   ]
  },
  {
   "cell_type": "code",
   "execution_count": 14,
   "id": "f9b754ed",
   "metadata": {
    "_cell_guid": "a209b966-fcb5-4612-ab25-881d47148773",
    "_uuid": "a05882bd-16a3-4f74-860c-e8e6e7cb113c",
    "collapsed": false,
    "execution": {
     "iopub.execute_input": "2023-06-17T00:10:51.933668Z",
     "iopub.status.busy": "2023-06-17T00:10:51.933249Z",
     "iopub.status.idle": "2023-06-17T00:10:51.943060Z",
     "shell.execute_reply": "2023-06-17T00:10:51.941240Z"
    },
    "jupyter": {
     "outputs_hidden": false
    },
    "papermill": {
     "duration": 0.029013,
     "end_time": "2023-06-17T00:10:51.945764",
     "exception": false,
     "start_time": "2023-06-17T00:10:51.916751",
     "status": "completed"
    },
    "tags": []
   },
   "outputs": [
    {
     "name": "stdout",
     "output_type": "stream",
     "text": [
      "What are the unique values?  ['unknown' 'meat' 'vegetable']\n"
     ]
    }
   ],
   "source": [
    "df['cause'].replace(' Meat','meat',inplace=True)\n",
    "df['cause'].replace('VEGETABLES','vegetable',inplace=True)\n",
    "print('What are the unique values? ',df['cause'].unique())"
   ]
  },
  {
   "cell_type": "markdown",
   "id": "e31cdd00",
   "metadata": {
    "_cell_guid": "f40191ed-f11e-452d-8fe9-f0a7f2211b0d",
    "_uuid": "a4189eb2-a010-4f05-83ac-cd91d23bf52d",
    "papermill": {
     "duration": 0.014598,
     "end_time": "2023-06-17T00:10:51.975188",
     "exception": false,
     "start_time": "2023-06-17T00:10:51.960590",
     "status": "completed"
    },
    "tags": []
   },
   "source": [
    "At this point, we've reviewed all the columns and identified a few with issues that we resolved:\n",
    "\n",
    "| Field Name           | Issue |\n",
    "|----------------------|-------|\n",
    "| claim_id             |NONE   |\n",
    "| time_to_close        |NONE   |\n",
    "| claim_amount         |Sliced, converted type to float, & rounded|\n",
    "| amount_paid          |36 Nulls  |\n",
    "| location             |NONE   |\n",
    "| individuals_on_claim |NONE   |\n",
    "| linked_cases         |26 Nulls, Saved as Object instead of bool |\n",
    "| cause                |Replaced typo values|"
   ]
  },
  {
   "cell_type": "markdown",
   "id": "0146fe8c",
   "metadata": {
    "_cell_guid": "69aa7be5-53ef-4dd2-a30b-116985ef1484",
    "_uuid": "70d30bd4-34e3-4184-b9f7-2300a5225e3e",
    "papermill": {
     "duration": 0.014666,
     "end_time": "2023-06-17T00:10:52.004885",
     "exception": false,
     "start_time": "2023-06-17T00:10:51.990219",
     "status": "completed"
    },
    "tags": []
   },
   "source": [
    "We now have a version of our data with accurate values, completing task **1**."
   ]
  },
  {
   "cell_type": "markdown",
   "id": "8967589b",
   "metadata": {
    "_cell_guid": "8197ec45-d036-46fb-af43-44a886c2836c",
    "_uuid": "c1e561c2-db0a-4156-abd4-573d05fdd20c",
    "papermill": {
     "duration": 0.015065,
     "end_time": "2023-06-17T00:10:52.034931",
     "exception": false,
     "start_time": "2023-06-17T00:10:52.019866",
     "status": "completed"
    },
    "tags": []
   },
   "source": [
    "---\n",
    "# 2. Create a visualization that shows the number of claims in each location. Use the visualization to:\n",
    "### a. State which category of the variable location has the most observations\n",
    "### b. Explain whether the observations are balanced across categories of the variable location"
   ]
  },
  {
   "cell_type": "markdown",
   "id": "6876eb65",
   "metadata": {
    "_cell_guid": "6fcd608b-e2dc-4369-ab01-814da7805afa",
    "_uuid": "71e25a64-0636-414a-b152-b52442d3c027",
    "papermill": {
     "duration": 0.013972,
     "end_time": "2023-06-17T00:10:52.063177",
     "exception": false,
     "start_time": "2023-06-17T00:10:52.049205",
     "status": "completed"
    },
    "tags": []
   },
   "source": [
    "To begin, let's identify which location has the most claim IDs. To so, we will group by **location** and count the results."
   ]
  },
  {
   "cell_type": "code",
   "execution_count": 15,
   "id": "356030d3",
   "metadata": {
    "_cell_guid": "e433e2cb-f971-4146-84dc-7336719a9a30",
    "_uuid": "16849b2b-c0c9-4765-b5d9-c4e37566d3d7",
    "collapsed": false,
    "execution": {
     "iopub.execute_input": "2023-06-17T00:10:52.094363Z",
     "iopub.status.busy": "2023-06-17T00:10:52.093934Z",
     "iopub.status.idle": "2023-06-17T00:10:52.154307Z",
     "shell.execute_reply": "2023-06-17T00:10:52.152950Z"
    },
    "jupyter": {
     "outputs_hidden": false
    },
    "papermill": {
     "duration": 0.079579,
     "end_time": "2023-06-17T00:10:52.157263",
     "exception": false,
     "start_time": "2023-06-17T00:10:52.077684",
     "status": "completed"
    },
    "tags": []
   },
   "outputs": [
    {
     "data": {
      "text/html": [
       "<div>\n",
       "<style scoped>\n",
       "    .dataframe tbody tr th:only-of-type {\n",
       "        vertical-align: middle;\n",
       "    }\n",
       "\n",
       "    .dataframe tbody tr th {\n",
       "        vertical-align: top;\n",
       "    }\n",
       "\n",
       "    .dataframe thead th {\n",
       "        text-align: right;\n",
       "    }\n",
       "</style>\n",
       "<table border=\"1\" class=\"dataframe\">\n",
       "  <thead>\n",
       "    <tr style=\"text-align: right;\">\n",
       "      <th></th>\n",
       "      <th>count</th>\n",
       "      <th>mean</th>\n",
       "      <th>std</th>\n",
       "      <th>min</th>\n",
       "      <th>25%</th>\n",
       "      <th>50%</th>\n",
       "      <th>75%</th>\n",
       "      <th>max</th>\n",
       "    </tr>\n",
       "    <tr>\n",
       "      <th>location</th>\n",
       "      <th></th>\n",
       "      <th></th>\n",
       "      <th></th>\n",
       "      <th></th>\n",
       "      <th></th>\n",
       "      <th></th>\n",
       "      <th></th>\n",
       "      <th></th>\n",
       "    </tr>\n",
       "  </thead>\n",
       "  <tbody>\n",
       "    <tr>\n",
       "      <th>FORTALEZA</th>\n",
       "      <td>311.0</td>\n",
       "      <td>185.305466</td>\n",
       "      <td>47.583000</td>\n",
       "      <td>76.0</td>\n",
       "      <td>157.0</td>\n",
       "      <td>180.0</td>\n",
       "      <td>205.5</td>\n",
       "      <td>453.0</td>\n",
       "    </tr>\n",
       "    <tr>\n",
       "      <th>NATAL</th>\n",
       "      <td>287.0</td>\n",
       "      <td>185.926829</td>\n",
       "      <td>47.059160</td>\n",
       "      <td>93.0</td>\n",
       "      <td>157.0</td>\n",
       "      <td>179.0</td>\n",
       "      <td>205.5</td>\n",
       "      <td>361.0</td>\n",
       "    </tr>\n",
       "    <tr>\n",
       "      <th>RECIFE</th>\n",
       "      <td>885.0</td>\n",
       "      <td>184.607910</td>\n",
       "      <td>48.013254</td>\n",
       "      <td>82.0</td>\n",
       "      <td>157.0</td>\n",
       "      <td>178.0</td>\n",
       "      <td>203.0</td>\n",
       "      <td>427.0</td>\n",
       "    </tr>\n",
       "    <tr>\n",
       "      <th>SAO LUIS</th>\n",
       "      <td>517.0</td>\n",
       "      <td>187.170213</td>\n",
       "      <td>53.126094</td>\n",
       "      <td>84.0</td>\n",
       "      <td>161.0</td>\n",
       "      <td>179.0</td>\n",
       "      <td>205.0</td>\n",
       "      <td>518.0</td>\n",
       "    </tr>\n",
       "  </tbody>\n",
       "</table>\n",
       "</div>"
      ],
      "text/plain": [
       "           count        mean        std   min    25%    50%    75%    max\n",
       "location                                                                 \n",
       "FORTALEZA  311.0  185.305466  47.583000  76.0  157.0  180.0  205.5  453.0\n",
       "NATAL      287.0  185.926829  47.059160  93.0  157.0  179.0  205.5  361.0\n",
       "RECIFE     885.0  184.607910  48.013254  82.0  157.0  178.0  203.0  427.0\n",
       "SAO LUIS   517.0  187.170213  53.126094  84.0  161.0  179.0  205.0  518.0"
      ]
     },
     "execution_count": 15,
     "metadata": {},
     "output_type": "execute_result"
    }
   ],
   "source": [
    "df.groupby('location')['time_to_close'].describe()"
   ]
  },
  {
   "cell_type": "markdown",
   "id": "064fb5bc",
   "metadata": {
    "_cell_guid": "3a2ee120-a11f-419c-8e54-3435b943eed7",
    "_uuid": "5c7610f5-7f20-42ac-bdf1-95dfe73f4297",
    "papermill": {
     "duration": 0.0151,
     "end_time": "2023-06-17T00:10:52.188120",
     "exception": false,
     "start_time": "2023-06-17T00:10:52.173020",
     "status": "completed"
    },
    "tags": []
   },
   "source": [
    "Judging from our results, **RECIFE** has the most observations, **885**.\n",
    "\n",
    "|  location | count |       mean |       std |  min |   25% |   50% |   75% |   max |\n",
    "|----------:|------:|-----------:|----------:|-----:|------:|------:|------:|------:|\n",
    "| FORTALEZA | 311.0 | 185.305466 | 47.583000 | 76.0 | 157.0 | 180.0 | 205.5 | 453.0 |\n",
    "|     NATAL | 287.0 | 185.926829 | 47.059160 | 93.0 | 157.0 | 179.0 | 205.5 | 361.0 |\n",
    "|    **RECIFE** | **885.0** | 184.607910 | 48.013254 | 82.0 | 157.0 | 178.0 | 203.0 | 427.0 |\n",
    "|  SAO LUIS | 517.0 | 187.170213 | 53.126094 | 84.0 | 161.0 | 179.0 | 205.0 | 518.0 |"
   ]
  },
  {
   "cell_type": "code",
   "execution_count": 16,
   "id": "8335351b",
   "metadata": {
    "_cell_guid": "935365b7-3794-45c6-8ae9-844655a5cc33",
    "_uuid": "17a7715e-20dd-461b-8a67-90380f5571be",
    "collapsed": false,
    "execution": {
     "iopub.execute_input": "2023-06-17T00:10:52.220520Z",
     "iopub.status.busy": "2023-06-17T00:10:52.220090Z",
     "iopub.status.idle": "2023-06-17T00:10:52.499457Z",
     "shell.execute_reply": "2023-06-17T00:10:52.498239Z"
    },
    "jupyter": {
     "outputs_hidden": false
    },
    "papermill": {
     "duration": 0.298955,
     "end_time": "2023-06-17T00:10:52.502354",
     "exception": false,
     "start_time": "2023-06-17T00:10:52.203399",
     "status": "completed"
    },
    "tags": []
   },
   "outputs": [
    {
     "data": {
      "text/plain": [
       "<Axes: xlabel='location', ylabel='count'>"
      ]
     },
     "execution_count": 16,
     "metadata": {},
     "output_type": "execute_result"
    },
    {
     "data": {
      "image/png": "[encoded data removed]",
      "text/plain": [
       "<Figure size 640x480 with 1 Axes>"
      ]
     },
     "metadata": {},
     "output_type": "display_data"
    }
   ],
   "source": [
    "sns.countplot(x = df['location'])"
   ]
  },
  {
   "cell_type": "markdown",
   "id": "53f23cbc",
   "metadata": {
    "_cell_guid": "0cdaaf6a-ca05-4f93-a08f-7f572f40ddce",
    "_uuid": "fc88d35a-d6f9-4c95-b8c7-c83769a6ad3f",
    "papermill": {
     "duration": 0.014716,
     "end_time": "2023-06-17T00:10:52.533157",
     "exception": false,
     "start_time": "2023-06-17T00:10:52.518441",
     "status": "completed"
    },
    "tags": []
   },
   "source": [
    "By examining the location chart, it also seems like there is a **disporportionately large** number of cases being sent to the RECIFE location."
   ]
  },
  {
   "cell_type": "markdown",
   "id": "ffafa655",
   "metadata": {
    "_cell_guid": "2ca7a063-1368-4259-a2a4-87d0ff5354b4",
    "_uuid": "50b9d7ce-c32e-40df-974f-a39d0a1f4faa",
    "papermill": {
     "duration": 0.015278,
     "end_time": "2023-06-17T00:10:52.563579",
     "exception": false,
     "start_time": "2023-06-17T00:10:52.548301",
     "status": "completed"
    },
    "tags": []
   },
   "source": [
    "---\n",
    "# 3. Describe the distribution of time to close for all claims. Your answer must include a visualization that shows the distribution."
   ]
  },
  {
   "cell_type": "markdown",
   "id": "bf8a6e27",
   "metadata": {
    "_cell_guid": "31b83e6f-3dab-4aa4-8dd6-dc425904878a",
    "_uuid": "54c8d5c0-636f-42cf-bca1-028b37d34832",
    "papermill": {
     "duration": 0.014673,
     "end_time": "2023-06-17T00:10:52.593395",
     "exception": false,
     "start_time": "2023-06-17T00:10:52.578722",
     "status": "completed"
    },
    "tags": []
   },
   "source": [
    "To look at our overall distribution of time_to_close, we'll build a univariate histogram."
   ]
  },
  {
   "cell_type": "code",
   "execution_count": 17,
   "id": "7fe1085c",
   "metadata": {
    "_cell_guid": "75edaf3f-fd8a-41ee-88da-2f3b969f7c97",
    "_uuid": "46999878-1442-4c87-9362-8d9df7128b08",
    "collapsed": false,
    "execution": {
     "iopub.execute_input": "2023-06-17T00:10:52.628254Z",
     "iopub.status.busy": "2023-06-17T00:10:52.627494Z",
     "iopub.status.idle": "2023-06-17T00:10:53.260532Z",
     "shell.execute_reply": "2023-06-17T00:10:53.259354Z"
    },
    "jupyter": {
     "outputs_hidden": false
    },
    "papermill": {
     "duration": 0.654782,
     "end_time": "2023-06-17T00:10:53.263794",
     "exception": false,
     "start_time": "2023-06-17T00:10:52.609012",
     "status": "completed"
    },
    "tags": []
   },
   "outputs": [
    {
     "data": {
      "image/png": "[encoded data removed]",
      "text/plain": [
       "<Figure size 500x500 with 1 Axes>"
      ]
     },
     "metadata": {},
     "output_type": "display_data"
    }
   ],
   "source": [
    "ax = sns.displot(df, x=\"time_to_close\", kde=True, line_kws={ 'lw': 2, 'ls': ':'})"
   ]
  },
  {
   "cell_type": "code",
   "execution_count": 18,
   "id": "52d9a8e7",
   "metadata": {
    "_cell_guid": "9c57085b-9475-4d32-8633-1a43cead48d9",
    "_uuid": "550c7eae-d91c-49f1-b7ca-7b18ab4b9015",
    "collapsed": false,
    "execution": {
     "iopub.execute_input": "2023-06-17T00:10:53.298321Z",
     "iopub.status.busy": "2023-06-17T00:10:53.297924Z",
     "iopub.status.idle": "2023-06-17T00:10:53.310492Z",
     "shell.execute_reply": "2023-06-17T00:10:53.309298Z"
    },
    "jupyter": {
     "outputs_hidden": false
    },
    "papermill": {
     "duration": 0.032257,
     "end_time": "2023-06-17T00:10:53.312999",
     "exception": false,
     "start_time": "2023-06-17T00:10:53.280742",
     "status": "completed"
    },
    "tags": []
   },
   "outputs": [
    {
     "data": {
      "text/plain": [
       "count    2000.00000\n",
       "mean      185.56800\n",
       "std        49.16339\n",
       "min        76.00000\n",
       "25%       158.00000\n",
       "50%       179.00000\n",
       "75%       204.00000\n",
       "max       518.00000\n",
       "Name: time_to_close, dtype: float64"
      ]
     },
     "execution_count": 18,
     "metadata": {},
     "output_type": "execute_result"
    }
   ],
   "source": [
    "df['time_to_close'].describe()"
   ]
  },
  {
   "cell_type": "markdown",
   "id": "d2ecfc94",
   "metadata": {
    "_cell_guid": "c0e9cd46-447d-4d11-abaa-40da2bb4befb",
    "_uuid": "b0a23605-6aeb-46aa-a0c5-3194f8c6fd26",
    "papermill": {
     "duration": 0.01615,
     "end_time": "2023-06-17T00:10:53.345531",
     "exception": false,
     "start_time": "2023-06-17T00:10:53.329381",
     "status": "completed"
    },
    "tags": []
   },
   "source": [
    "Our histogram shows a:\n",
    "* **unimodal** distribution \n",
    "* **skewed right**\n",
    "* with a minimum of **76**\n",
    "* maximum of **518**\n",
    "* a peak around **185**"
   ]
  },
  {
   "cell_type": "markdown",
   "id": "30b6a2cc",
   "metadata": {
    "_cell_guid": "36c8e4b4-cbdf-4fda-9142-2b9ba6a4cd85",
    "_uuid": "faf978ea-50e7-4782-be7d-ce4a32d89388",
    "papermill": {
     "duration": 0.01574,
     "end_time": "2023-06-17T00:10:53.378379",
     "exception": false,
     "start_time": "2023-06-17T00:10:53.362639",
     "status": "completed"
    },
    "tags": []
   },
   "source": [
    "---\n",
    "# 4. Describe the relationship between time to close and location. Your answer must include a visualization to demonstrate the relationship."
   ]
  },
  {
   "cell_type": "code",
   "execution_count": 19,
   "id": "d04ccc67",
   "metadata": {
    "_cell_guid": "0b9e0a2e-9e3f-4abe-bbdb-63e6a129b50b",
    "_uuid": "a7761a28-9040-44d7-8fb5-3f73b93d2e9d",
    "collapsed": false,
    "execution": {
     "iopub.execute_input": "2023-06-17T00:10:53.413272Z",
     "iopub.status.busy": "2023-06-17T00:10:53.412887Z",
     "iopub.status.idle": "2023-06-17T00:10:53.863417Z",
     "shell.execute_reply": "2023-06-17T00:10:53.862054Z"
    },
    "jupyter": {
     "outputs_hidden": false
    },
    "papermill": {
     "duration": 0.471569,
     "end_time": "2023-06-17T00:10:53.866181",
     "exception": false,
     "start_time": "2023-06-17T00:10:53.394612",
     "status": "completed"
    },
    "tags": []
   },
   "outputs": [
    {
     "data": {
      "text/plain": [
       "<Axes: xlabel='time_to_close', ylabel='location'>"
      ]
     },
     "execution_count": 19,
     "metadata": {},
     "output_type": "execute_result"
    },
    {
     "data": {
      "image/png": "[encoded data removed]",
      "text/plain": [
       "<Figure size 640x480 with 1 Axes>"
      ]
     },
     "metadata": {},
     "output_type": "display_data"
    }
   ],
   "source": [
    "sns.violinplot(x=df['time_to_close'], y=df['location'])"
   ]
  },
  {
   "cell_type": "code",
   "execution_count": 20,
   "id": "37e106db",
   "metadata": {
    "_cell_guid": "c4b9cdb2-f737-495b-9cfd-2eb78752af3e",
    "_uuid": "44176622-51ab-4e30-a00d-38bb52258b9b",
    "collapsed": false,
    "execution": {
     "iopub.execute_input": "2023-06-17T00:10:53.902478Z",
     "iopub.status.busy": "2023-06-17T00:10:53.902011Z",
     "iopub.status.idle": "2023-06-17T00:10:54.209953Z",
     "shell.execute_reply": "2023-06-17T00:10:54.208657Z"
    },
    "jupyter": {
     "outputs_hidden": false
    },
    "papermill": {
     "duration": 0.329736,
     "end_time": "2023-06-17T00:10:54.212672",
     "exception": false,
     "start_time": "2023-06-17T00:10:53.882936",
     "status": "completed"
    },
    "tags": []
   },
   "outputs": [
    {
     "data": {
      "text/plain": [
       "<Axes: xlabel='time_to_close', ylabel='location'>"
      ]
     },
     "execution_count": 20,
     "metadata": {},
     "output_type": "execute_result"
    },
    {
     "data": {
      "image/png": "[encoded data removed]",
      "text/plain": [
       "<Figure size 640x480 with 1 Axes>"
      ]
     },
     "metadata": {},
     "output_type": "display_data"
    }
   ],
   "source": [
    "sns.boxenplot(data = df, x='time_to_close', y='location')"
   ]
  }
 ],
 "metadata": {
  "kernelspec": {
   "display_name": "Python 3",
   "language": "python",
   "name": "python3"
  },
  "language_info": {
   "codemirror_mode": {
    "name": "ipython",
    "version": 3
   },
   "file_extension": ".py",
   "mimetype": "text/x-python",
   "name": "python",
   "nbconvert_exporter": "python",
   "pygments_lexer": "ipython3",
   "version": "3.10.10"
  },
  "papermill": {
   "default_parameters": {},
   "duration": 20.008096,
   "end_time": "2023-06-17T00:10:55.254730",
   "environment_variables": {},
   "exception": null,
   "input_path": "__notebook__.ipynb",
   "output_path": "__notebook__.ipynb",
   "parameters": {},
   "start_time": "2023-06-17T00:10:35.246634",
   "version": "2.4.0"
  }
 },
 "nbformat": 4,
 "nbformat_minor": 5
}
